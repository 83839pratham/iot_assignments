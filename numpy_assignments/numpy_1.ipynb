{
 "cells": [
  {
   "cell_type": "code",
   "execution_count": 1,
   "id": "78d531d2-75e8-4178-b957-427df07bd592",
   "metadata": {},
   "outputs": [],
   "source": [
    "import numpy as np"
   ]
  },
  {
   "cell_type": "code",
   "execution_count": 2,
   "id": "4d4d5b79-63c8-4a79-aef1-867376b7c817",
   "metadata": {},
   "outputs": [],
   "source": [
    "def function():\n",
    "    arr = np.array([1,7,13,105])\n",
    "    print(arr)\n",
    "    print(f\"Type = {type(arr)}\")\n",
    "    print(f\"Item size = {arr.itemsize}\")\n",
    "    print(f\"Size = {arr.size}\")\n",
    "    print(f\"NDIM = {arr.ndim}\")\n",
    "    print(f\"NBYTES = {arr.nbytes}\")"
   ]
  },
  {
   "cell_type": "code",
   "execution_count": 3,
   "id": "7a051d22-c422-4c41-b5d9-82ac13a2b572",
   "metadata": {},
   "outputs": [
    {
     "name": "stdout",
     "output_type": "stream",
     "text": [
      "[  1   7  13 105]\n",
      "Type = <class 'numpy.ndarray'>\n",
      "Item size = 8\n",
      "Size = 4\n",
      "NDIM = 1\n",
      "NBYTES = 32\n"
     ]
    }
   ],
   "source": [
    "function()"
   ]
  },
  {
   "cell_type": "code",
   "execution_count": null,
   "id": "93cbc7c2-1c17-4f89-a81e-e4c1686f862c",
   "metadata": {},
   "outputs": [],
   "source": []
  }
 ],
 "metadata": {
  "kernelspec": {
   "display_name": "Python 3 (ipykernel)",
   "language": "python",
   "name": "python3"
  },
  "language_info": {
   "codemirror_mode": {
    "name": "ipython",
    "version": 3
   },
   "file_extension": ".py",
   "mimetype": "text/x-python",
   "name": "python",
   "nbconvert_exporter": "python",
   "pygments_lexer": "ipython3",
   "version": "3.10.12"
  }
 },
 "nbformat": 4,
 "nbformat_minor": 5
}

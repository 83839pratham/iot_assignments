{
 "cells": [
  {
   "cell_type": "code",
   "execution_count": 1,
   "id": "be1a48f6-38e9-4b79-a1b9-209741ef3aec",
   "metadata": {},
   "outputs": [],
   "source": [
    "import numpy as np"
   ]
  },
  {
   "cell_type": "code",
   "execution_count": 3,
   "id": "7a2bdda3-222a-4f69-b388-bdaf400b8c0a",
   "metadata": {},
   "outputs": [],
   "source": [
    "def function():\n",
    "    x = np.array([11,22,33,55,77,99])\n",
    "    y = np.array([10,60,50,20,30,50])\n",
    "\n",
    "    print(\"----------------------------\")\n",
    "    print(x)\n",
    "    print(y)\n",
    "\n",
    "    print(np.greater(x,y))\n",
    "    print(np.greater_equal(x,y))\n",
    "    print(np.less(x,y))\n",
    "    print(np.less_equal(x,y))"
   ]
  },
  {
   "cell_type": "code",
   "execution_count": 4,
   "id": "063a3d8f-973b-4d34-bea1-10e4d525b97e",
   "metadata": {},
   "outputs": [
    {
     "name": "stdout",
     "output_type": "stream",
     "text": [
      "----------------------------\n",
      "[11 22 33 55 77 99]\n",
      "[10 60 50 20 30 50]\n",
      "[ True False False  True  True  True]\n",
      "[ True False False  True  True  True]\n",
      "[False  True  True False False False]\n",
      "[False  True  True False False False]\n"
     ]
    }
   ],
   "source": [
    "function()"
   ]
  },
  {
   "cell_type": "code",
   "execution_count": null,
   "id": "8c0c57b3-07df-4ffc-8c90-583584d78e08",
   "metadata": {},
   "outputs": [],
   "source": []
  }
 ],
 "metadata": {
  "kernelspec": {
   "display_name": "Python 3 (ipykernel)",
   "language": "python",
   "name": "python3"
  },
  "language_info": {
   "codemirror_mode": {
    "name": "ipython",
    "version": 3
   },
   "file_extension": ".py",
   "mimetype": "text/x-python",
   "name": "python",
   "nbconvert_exporter": "python",
   "pygments_lexer": "ipython3",
   "version": "3.10.12"
  }
 },
 "nbformat": 4,
 "nbformat_minor": 5
}
